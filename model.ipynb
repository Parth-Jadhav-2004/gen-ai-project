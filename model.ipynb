{
 "cells": [
  {
   "cell_type": "markdown",
   "metadata": {},
   "source": [
    "PDF RAG Implementation\n"
   ]
  },
  {
   "cell_type": "code",
   "execution_count": 1,
   "metadata": {},
   "outputs": [],
   "source": [
    "# Cell 1: Imports and Setup\n",
    "import os\n",
    "import faiss\n",
    "import numpy as np\n",
    "import PyPDF2\n",
    "import ollama\n",
    "from IPython.display import display, Markdown\n",
    "import ipywidgets as widgets\n"
   ]
  },
  {
   "cell_type": "code",
   "execution_count": 2,
   "metadata": {},
   "outputs": [
    {
     "name": "stdout",
     "output_type": "stream",
     "text": [
      "Requirement already satisfied: ipywidgets in e:\\anaconda\\envs\\rag\\lib\\site-packages (8.1.5)\n",
      "Requirement already satisfied: faiss-cpu in e:\\anaconda\\envs\\rag\\lib\\site-packages (1.10.0)\n",
      "Requirement already satisfied: PyPDF2 in e:\\anaconda\\envs\\rag\\lib\\site-packages (3.0.1)\n",
      "Requirement already satisfied: comm>=0.1.3 in e:\\anaconda\\envs\\rag\\lib\\site-packages (from ipywidgets) (0.2.2)\n",
      "Requirement already satisfied: ipython>=6.1.0 in e:\\anaconda\\envs\\rag\\lib\\site-packages (from ipywidgets) (8.33.0)\n",
      "Requirement already satisfied: traitlets>=4.3.1 in e:\\anaconda\\envs\\rag\\lib\\site-packages (from ipywidgets) (5.14.3)\n",
      "Requirement already satisfied: widgetsnbextension~=4.0.12 in e:\\anaconda\\envs\\rag\\lib\\site-packages (from ipywidgets) (4.0.13)\n",
      "Requirement already satisfied: jupyterlab-widgets~=3.0.12 in e:\\anaconda\\envs\\rag\\lib\\site-packages (from ipywidgets) (3.0.13)\n",
      "Requirement already satisfied: numpy<3.0,>=1.25.0 in e:\\anaconda\\envs\\rag\\lib\\site-packages (from faiss-cpu) (2.2.3)\n",
      "Requirement already satisfied: packaging in e:\\anaconda\\envs\\rag\\lib\\site-packages (from faiss-cpu) (24.2)\n",
      "Requirement already satisfied: colorama in e:\\anaconda\\envs\\rag\\lib\\site-packages (from ipython>=6.1.0->ipywidgets) (0.4.6)\n",
      "Requirement already satisfied: decorator in e:\\anaconda\\envs\\rag\\lib\\site-packages (from ipython>=6.1.0->ipywidgets) (5.2.1)\n",
      "Requirement already satisfied: exceptiongroup in e:\\anaconda\\envs\\rag\\lib\\site-packages (from ipython>=6.1.0->ipywidgets) (1.2.2)\n",
      "Requirement already satisfied: jedi>=0.16 in e:\\anaconda\\envs\\rag\\lib\\site-packages (from ipython>=6.1.0->ipywidgets) (0.19.2)\n",
      "Requirement already satisfied: matplotlib-inline in e:\\anaconda\\envs\\rag\\lib\\site-packages (from ipython>=6.1.0->ipywidgets) (0.1.7)\n",
      "Requirement already satisfied: prompt_toolkit<3.1.0,>=3.0.41 in e:\\anaconda\\envs\\rag\\lib\\site-packages (from ipython>=6.1.0->ipywidgets) (3.0.50)\n",
      "Requirement already satisfied: pygments>=2.4.0 in e:\\anaconda\\envs\\rag\\lib\\site-packages (from ipython>=6.1.0->ipywidgets) (2.19.1)\n",
      "Requirement already satisfied: stack_data in e:\\anaconda\\envs\\rag\\lib\\site-packages (from ipython>=6.1.0->ipywidgets) (0.6.3)\n",
      "Requirement already satisfied: typing_extensions>=4.6 in e:\\anaconda\\envs\\rag\\lib\\site-packages (from ipython>=6.1.0->ipywidgets) (4.12.2)\n",
      "Requirement already satisfied: parso<0.9.0,>=0.8.4 in e:\\anaconda\\envs\\rag\\lib\\site-packages (from jedi>=0.16->ipython>=6.1.0->ipywidgets) (0.8.4)\n",
      "Requirement already satisfied: wcwidth in e:\\anaconda\\envs\\rag\\lib\\site-packages (from prompt_toolkit<3.1.0,>=3.0.41->ipython>=6.1.0->ipywidgets) (0.2.13)\n",
      "Requirement already satisfied: executing>=1.2.0 in e:\\anaconda\\envs\\rag\\lib\\site-packages (from stack_data->ipython>=6.1.0->ipywidgets) (2.1.0)\n",
      "Requirement already satisfied: asttokens>=2.1.0 in e:\\anaconda\\envs\\rag\\lib\\site-packages (from stack_data->ipython>=6.1.0->ipywidgets) (3.0.0)\n",
      "Requirement already satisfied: pure_eval in e:\\anaconda\\envs\\rag\\lib\\site-packages (from stack_data->ipython>=6.1.0->ipywidgets) (0.2.3)\n",
      "Note: you may need to restart the kernel to use updated packages.\n"
     ]
    }
   ],
   "source": [
    "%pip install ipywidgets faiss-cpu PyPDF2\n"
   ]
  },
  {
   "cell_type": "code",
   "execution_count": 3,
   "metadata": {},
   "outputs": [],
   "source": [
    "# Cell 2: Text Extraction from PDF\n",
    "def extract_text_from_pdfs(uploaded_files):\n",
    "    text = \"\"\n",
    "    for uploaded_file in uploaded_files:\n",
    "        reader = PyPDF2.PdfReader(uploaded_file)\n",
    "        for page in reader.pages:\n",
    "            page_text = page.extract_text()\n",
    "            if page_text:\n",
    "                text += page_text + \"\\n\"\n",
    "    return text"
   ]
  },
  {
   "cell_type": "code",
   "execution_count": 4,
   "metadata": {},
   "outputs": [],
   "source": [
    "# Cell 3: Chunking the Text\n",
    "def chunk_text(text, chunk_size=1000, chunk_overlap=200):\n",
    "    chunks = []\n",
    "    start = 0\n",
    "    while start < len(text):\n",
    "        end = min(start + chunk_size, len(text))\n",
    "        chunks.append(text[start:end])\n",
    "        start += chunk_size - chunk_overlap\n",
    "    return chunks\n"
   ]
  },
  {
   "cell_type": "code",
   "execution_count": 5,
   "metadata": {},
   "outputs": [],
   "source": [
    "# Cell 4: Embedding Text using Ollama (mxbai-embed-large)\n",
    "def get_embedding(text):\n",
    "    response = ollama.embeddings(\n",
    "        model=\"mxbai-embed-large\",\n",
    "        prompt=f\"Represent this sentence for searching relevant passages: {text}\"\n",
    "    )\n",
    "    return np.array(response[\"embedding\"], dtype='float32')"
   ]
  },
  {
   "cell_type": "code",
   "execution_count": 6,
   "metadata": {},
   "outputs": [],
   "source": [
    "# Cell 5: Build FAISS Index\n",
    "def build_faiss_index(chunks):\n",
    "    vectors = [get_embedding(chunk) for chunk in chunks]\n",
    "    dim = len(vectors[0])\n",
    "    index = faiss.IndexFlatL2(dim)\n",
    "    index.add(np.array(vectors))\n",
    "    return index, chunks"
   ]
  },
  {
   "cell_type": "code",
   "execution_count": 7,
   "metadata": {},
   "outputs": [],
   "source": [
    "# Cell 6: Retrieve Context from Query\n",
    "def retrieve_context(index, chunks, query, k=1):\n",
    "    query_embedding = get_embedding(query).reshape(1, -1)\n",
    "    _, indices = index.search(query_embedding, k)\n",
    "    return \"\\n\".join([chunks[i] for i in indices[0]])"
   ]
  },
  {
   "cell_type": "code",
   "execution_count": 8,
   "metadata": {},
   "outputs": [],
   "source": [
    "# Cell 7: Ask Mistral (via Ollama)\n",
    "def ask_mistral(context, question):\n",
    "    prompt = f\"Context: {context}\\nQuestion: {question}\\nAnswer:\"\n",
    "    response = ollama.chat(model=\"mistral\", messages=[{\"role\": \"user\", \"content\": prompt}])\n",
    "    return response[\"message\"][\"content\"]"
   ]
  },
  {
   "cell_type": "code",
   "execution_count": 10,
   "metadata": {},
   "outputs": [
    {
     "name": "stdout",
     "output_type": "stream",
     "text": [
      "✅ Processed 1 PDF(s) and created vector store with 3 chunks.\n"
     ]
    }
   ],
   "source": [
    "# Cell 8: Run RAG\n",
    "# Provide your PDF file names here (they must be in the same folder as the notebook)\n",
    "pdf_files = [\"test file.pdf\"]  # 📝 Replace with your file names\n",
    "pdf_paths = [os.path.join(os.getcwd(), f) for f in pdf_files]\n",
    "\n",
    "# Extract → Chunk → Embed → Build Index\n",
    "raw_text = extract_text_from_pdfs(pdf_paths)\n",
    "chunks = chunk_text(raw_text)\n",
    "index, chunks = build_faiss_index(chunks)\n",
    "print(f\"✅ Processed {len(pdf_files)} PDF(s) and created vector store with {len(chunks)} chunks.\")"
   ]
  },
  {
   "cell_type": "code",
   "execution_count": 11,
   "metadata": {},
   "outputs": [
    {
     "data": {
      "text/markdown": [
       "**Question:** who did Emma call?"
      ],
      "text/plain": [
       "<IPython.core.display.Markdown object>"
      ]
     },
     "metadata": {},
     "output_type": "display_data"
    },
    {
     "data": {
      "text/markdown": [
       "**Answer:**  Emma called her best friend Jake."
      ],
      "text/plain": [
       "<IPython.core.display.Markdown object>"
      ]
     },
     "metadata": {},
     "output_type": "display_data"
    }
   ],
   "source": [
    "# Cell 9: Hardcoded Question and Answer\n",
    "from IPython.display import display, Markdown\n",
    "\n",
    "# 🔽 Replace this with your custom question\n",
    "question = \"who did Emma call?\"\n",
    "\n",
    "if not chunks or not index:\n",
    "    print(\"Please process your PDFs first.\")\n",
    "else:\n",
    "    context = retrieve_context(index, chunks, question)\n",
    "    answer = ask_mistral(context, question)\n",
    "\n",
    "    display(Markdown(f\"**Question:** {question}\"))\n",
    "    display(Markdown(f\"**Answer:** {answer}\"))\n"
   ]
  },
  {
   "cell_type": "code",
   "execution_count": null,
   "metadata": {},
   "outputs": [],
   "source": []
  },
  {
   "cell_type": "code",
   "execution_count": null,
   "metadata": {},
   "outputs": [],
   "source": []
  },
  {
   "cell_type": "code",
   "execution_count": null,
   "metadata": {},
   "outputs": [],
   "source": []
  }
 ],
 "metadata": {
  "kernelspec": {
   "display_name": "rag",
   "language": "python",
   "name": "python3"
  },
  "language_info": {
   "codemirror_mode": {
    "name": "ipython",
    "version": 3
   },
   "file_extension": ".py",
   "mimetype": "text/x-python",
   "name": "python",
   "nbconvert_exporter": "python",
   "pygments_lexer": "ipython3",
   "version": "3.10.16"
  }
 },
 "nbformat": 4,
 "nbformat_minor": 2
}
